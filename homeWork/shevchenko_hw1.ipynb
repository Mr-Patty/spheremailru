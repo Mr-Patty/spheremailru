{
 "cells": [
  {
   "cell_type": "markdown",
   "metadata": {},
   "source": [
    "**Общая информация**\n",
    "\n",
    "**Срок сдачи:** 20 марта 2019, 06:00 <br\\>\n",
    "**Штраф за опоздание:** -1 балл после 06:00 20 марта, -2 балла после 06:00 27 марта, -3 балла после 06:00 3 апреля\n",
    "\n",
    "При отправлении ДЗ указывайте фамилию в названии файла\n",
    "Присылать ДЗ необходимо в виде ссылки на свой github репозиторий в slack @alkhamush\n",
    "\n",
    "Необходимо в slack скинуть ссылку в личный чат @alkhamush\n",
    "Пример ссылки:\n",
    "https://github.com/stroykova/spheremailru/stroykova_hw1.ipynb \n",
    "\n",
    "\n",
    "Используйте данный Ipython Notebook при оформлении домашнего задания."
   ]
  },
  {
   "cell_type": "markdown",
   "metadata": {},
   "source": [
    "###### Задание 1 (2 баллов)\n",
    "Реализовать KNN в классе MyKNeighborsClassifier (обязательное условие: точность не ниже sklearn реализации)\n",
    "Разберитесь самостоятельно, какая мера расстояния используется в KNeighborsClassifier дефолтно и реализуйте свой алгоритм именно с этой мерой. Самостоятельно разберитесь, как считается score из KNeighborsClassifier и реализуйте аналог в своём классе. Score не должен уступать значению KNN из sklearn\n",
    "\n",
    "###### Задание 2 (2 балла)\n",
    "Добиться скорости работы на fit,  predict и predict_proba сравнимой со sklearn для iris и mnist\n",
    "Для этого используем numpy\n",
    "\n",
    "###### Задание 3 (2 балла)\n",
    "Для iris найдите такой параметр n_neighbors, при котором выдаётся наилучший score. Нарисуйте график зависимости score от n_neighbors\n",
    "\n",
    "###### Задание 4 (3 балла)\n",
    "Добавить algorithm='kd_tree' в реализацию KNN (использовать KDTree из sklearn.neighbors). Значение n_neighbors нужно взять из задания 3. Добиться скорости работы на fit,  predict и predict_proba сравнимой со sklearn для iris и mnist\n",
    "Для этого используем numpy. Score не должен уступать значению KNN из sklearn\n",
    "\n",
    "###### Задание 5 (1 балла)\n",
    "Описать для чего нужны следующие библиотеки/классы/функции (список будет ниже)\n",
    "\n",
    "**Штрафные баллы:**\n",
    "\n",
    "1. Невыполнение PEP8 -1 балл\n",
    "2. Отсутствие фамилии в имени скрипта (скрипт должен называться по аналогии со stroykova_hw1.ipynb) -1 балл\n",
    "3. Все строчки должны быть выполнены. Нужно, чтобы output команды можно было увидеть уже в git'е. В противном случае -1 балл\n",
    "4. При оформлении ДЗ нужно пользоваться данным файлом в качестве шаблона. Не нужно удалять и видоизменять структуру кода и текст. В противном случае -1 балл\n"
   ]
  },
  {
   "cell_type": "code",
   "execution_count": 1,
   "metadata": {},
   "outputs": [],
   "source": [
    "import numpy as np\n",
    "import matplotlib.pyplot as plt\n",
    "\n",
    "import seaborn as sns\n",
    "from sklearn import datasets\n",
    "from sklearn.base import ClassifierMixin\n",
    "from sklearn.datasets import fetch_openml\n",
    "\n",
    "from sklearn.neighbors.base import NeighborsBase, KNeighborsMixin, SupervisedIntegerMixin \n",
    "from sklearn.model_selection import train_test_split\n",
    "from sklearn.neighbors import KNeighborsClassifier\n",
    "from scipy.spatial import distance\n",
    "from operator import itemgetter\n",
    "# %load_ext pycodestyle_magic"
   ]
  },
  {
   "cell_type": "code",
   "execution_count": 416,
   "metadata": {},
   "outputs": [],
   "source": [
    "# %%pycodestyle\n",
    "# metric : string or callable, default ‘minkowski’\n",
    "\n",
    "class MyKNeighborsClassifier(NeighborsBase, KNeighborsMixin,\n",
    "                             SupervisedIntegerMixin, ClassifierMixin):\n",
    "\n",
    "    def __init__(self, n_neighbors, algorithm = 'brute'):\n",
    "        self.n_neighbors = n_neighbors\n",
    "        self.algorithm =  algorithm\n",
    "\n",
    "    def fit(self, X, y): \n",
    "        if X.shape[0] != y.shape[0]:\n",
    "            print(\"error\")\n",
    "            return\n",
    "        self._X = np.array(X, dtype= np.float64)\n",
    "        self._y = np.array(y, dtype= np.int32)\n",
    "        self.n_classes = np.unique(y).shape[0]\n",
    "        \n",
    "    def neighbors(self, X):\n",
    "        X = np.array(X, dtype= np.float64)\n",
    "        distances = distance.cdist(X, self._X)\n",
    "        indeces = np.argsort(distances, axis=1)\n",
    "        ineighbors = indeces[:, :self.n_neighbors]\n",
    "        return self._y[ineighbors]\n",
    "    \n",
    "    def votes(self, x):\n",
    "        votes = np.zeros(self.n_classes)\n",
    "        for i in x:\n",
    "            votes[i] += 1\n",
    "        return votes.argmax()\n",
    "        \n",
    "    def votes_proba(self, x):\n",
    "        votes = np.zeros(self.n_classes)\n",
    "        for i in x:\n",
    "            votes[i] += 1\n",
    "        return votes / self.n_neighbors\n",
    "        \n",
    "    def predict(self, X):\n",
    "        result = self.neighbors(X)\n",
    "        return np.apply_along_axis(lambda x: self.votes(x), 1, result)\n",
    "    \n",
    "    def predict_proba(self, X):\n",
    "        result = self.neighbors(X)\n",
    "        return np.apply_along_axis(lambda x: self.votes_proba(x), 1, result)\n",
    "    \n",
    "    def accuracy(self, y_true, y_pred):\n",
    "        n = y_true.shape[0]\n",
    "        return ((y_pred - y_true) == 0).sum() / n\n",
    "    \n",
    "    def score(self, X, y):\n",
    "        y = np.array(y, dtype= np.int32)\n",
    "        return self.accuracy(y, self.predict(X))"
   ]
  },
  {
   "cell_type": "markdown",
   "metadata": {},
   "source": [
    "**IRIS**"
   ]
  },
  {
   "cell_type": "code",
   "execution_count": 195,
   "metadata": {},
   "outputs": [],
   "source": [
    "iris = datasets.load_iris()"
   ]
  },
  {
   "cell_type": "code",
   "execution_count": 391,
   "metadata": {},
   "outputs": [],
   "source": [
    "X_train, X_test, y_train, y_test = train_test_split(iris.data, iris.target, test_size=0.1, stratify=iris.target)"
   ]
  },
  {
   "cell_type": "code",
   "execution_count": 392,
   "metadata": {},
   "outputs": [],
   "source": [
    "clf = KNeighborsClassifier(n_neighbors=2)\n",
    "my_clf = MyKNeighborsClassifier(n_neighbors=2)"
   ]
  },
  {
   "cell_type": "code",
   "execution_count": 393,
   "metadata": {},
   "outputs": [
    {
     "name": "stdout",
     "output_type": "stream",
     "text": [
      "CPU times: user 2.28 ms, sys: 0 ns, total: 2.28 ms\n",
      "Wall time: 2 ms\n"
     ]
    },
    {
     "data": {
      "text/plain": [
       "KNeighborsClassifier(algorithm='auto', leaf_size=30, metric='minkowski',\n",
       "           metric_params=None, n_jobs=None, n_neighbors=2, p=2,\n",
       "           weights='uniform')"
      ]
     },
     "execution_count": 393,
     "metadata": {},
     "output_type": "execute_result"
    }
   ],
   "source": [
    "%time clf.fit(X_train, y_train)"
   ]
  },
  {
   "cell_type": "code",
   "execution_count": 394,
   "metadata": {},
   "outputs": [
    {
     "name": "stdout",
     "output_type": "stream",
     "text": [
      "CPU times: user 0 ns, sys: 262 µs, total: 262 µs\n",
      "Wall time: 150 µs\n"
     ]
    }
   ],
   "source": [
    "%time my_clf.fit(X_train, y_train)"
   ]
  },
  {
   "cell_type": "code",
   "execution_count": 395,
   "metadata": {},
   "outputs": [
    {
     "name": "stdout",
     "output_type": "stream",
     "text": [
      "CPU times: user 294 µs, sys: 3.86 ms, total: 4.15 ms\n",
      "Wall time: 3.25 ms\n"
     ]
    },
    {
     "data": {
      "text/plain": [
       "array([0, 2, 2, 2, 2, 0, 1, 1, 0, 0, 1, 1, 2, 1, 0])"
      ]
     },
     "execution_count": 395,
     "metadata": {},
     "output_type": "execute_result"
    }
   ],
   "source": [
    "%time clf.predict(X_test)"
   ]
  },
  {
   "cell_type": "code",
   "execution_count": 401,
   "metadata": {},
   "outputs": [
    {
     "name": "stdout",
     "output_type": "stream",
     "text": [
      "CPU times: user 2.76 ms, sys: 753 µs, total: 3.51 ms\n",
      "Wall time: 2.19 ms\n"
     ]
    },
    {
     "data": {
      "text/plain": [
       "array([0, 2, 2, 2, 2, 0, 1, 1, 0, 0, 1, 1, 2, 1, 0])"
      ]
     },
     "execution_count": 401,
     "metadata": {},
     "output_type": "execute_result"
    }
   ],
   "source": [
    "%time my_clf.predict(X_test)"
   ]
  },
  {
   "cell_type": "code",
   "execution_count": 404,
   "metadata": {},
   "outputs": [
    {
     "name": "stdout",
     "output_type": "stream",
     "text": [
      "CPU times: user 4.3 ms, sys: 81 µs, total: 4.38 ms\n",
      "Wall time: 3.22 ms\n"
     ]
    },
    {
     "data": {
      "text/plain": [
       "array([[1., 0., 0.],\n",
       "       [0., 0., 1.],\n",
       "       [0., 0., 1.],\n",
       "       [0., 0., 1.],\n",
       "       [0., 0., 1.],\n",
       "       [1., 0., 0.],\n",
       "       [0., 1., 0.],\n",
       "       [0., 1., 0.],\n",
       "       [1., 0., 0.],\n",
       "       [1., 0., 0.],\n",
       "       [0., 1., 0.],\n",
       "       [0., 1., 0.],\n",
       "       [0., 0., 1.],\n",
       "       [0., 1., 0.],\n",
       "       [1., 0., 0.]])"
      ]
     },
     "execution_count": 404,
     "metadata": {},
     "output_type": "execute_result"
    }
   ],
   "source": [
    "%time clf.predict_proba(X_test)"
   ]
  },
  {
   "cell_type": "code",
   "execution_count": 405,
   "metadata": {},
   "outputs": [
    {
     "name": "stdout",
     "output_type": "stream",
     "text": [
      "CPU times: user 2.97 ms, sys: 810 µs, total: 3.78 ms\n",
      "Wall time: 2.23 ms\n"
     ]
    },
    {
     "data": {
      "text/plain": [
       "array([[1., 0., 0.],\n",
       "       [0., 0., 1.],\n",
       "       [0., 0., 1.],\n",
       "       [0., 0., 1.],\n",
       "       [0., 0., 1.],\n",
       "       [1., 0., 0.],\n",
       "       [0., 1., 0.],\n",
       "       [0., 1., 0.],\n",
       "       [1., 0., 0.],\n",
       "       [1., 0., 0.],\n",
       "       [0., 1., 0.],\n",
       "       [0., 1., 0.],\n",
       "       [0., 0., 1.],\n",
       "       [0., 1., 0.],\n",
       "       [1., 0., 0.]])"
      ]
     },
     "execution_count": 405,
     "metadata": {},
     "output_type": "execute_result"
    }
   ],
   "source": [
    "%time my_clf.predict_proba(X_test)"
   ]
  },
  {
   "cell_type": "code",
   "execution_count": 406,
   "metadata": {},
   "outputs": [
    {
     "data": {
      "text/plain": [
       "1.0"
      ]
     },
     "execution_count": 406,
     "metadata": {},
     "output_type": "execute_result"
    }
   ],
   "source": [
    "clf.score(X_test, y_test)"
   ]
  },
  {
   "cell_type": "code",
   "execution_count": 407,
   "metadata": {},
   "outputs": [
    {
     "data": {
      "text/plain": [
       "1.0"
      ]
     },
     "execution_count": 407,
     "metadata": {},
     "output_type": "execute_result"
    }
   ],
   "source": [
    "my_clf.score(X_test, y_test)"
   ]
  },
  {
   "cell_type": "markdown",
   "metadata": {},
   "source": [
    "Задание 3"
   ]
  },
  {
   "cell_type": "code",
   "execution_count": 507,
   "metadata": {},
   "outputs": [
    {
     "name": "stdout",
     "output_type": "stream",
     "text": [
      "[0.33333333 0.93333333 0.93333333 0.93333333 0.93333333 0.93333333\n",
      " 0.93333333 0.93333333 1.         0.93333333 1.         0.93333333\n",
      " 1.         0.93333333 1.         1.         1.         1.\n",
      " 1.         1.         1.         1.         1.         0.93333333\n",
      " 1.         1.         1.         1.         1.         1.        ]\n",
      "Best score with 8 neighbors\n",
      "Best score: 1.0\n"
     ]
    },
    {
     "data": {
      "image/png": "[encoded data removed]",
      "text/plain": [
       "<Figure size 432x288 with 1 Axes>"
      ]
     },
     "metadata": {
      "needs_background": "light"
     },
     "output_type": "display_data"
    }
   ],
   "source": [
    "#%%pycodestyle\n",
    "\n",
    "n_neighbors = 30\n",
    "scores = np.empty(n_neighbors, dtype = np.float64)\n",
    "X_train, X_test, y_train, y_test = train_test_split(iris.data,\n",
    "                                                    iris.target,\n",
    "                                                    test_size=0.1,\n",
    "                                                    stratify=iris.target)\n",
    "\n",
    "for i in range(n_neighbors):\n",
    "    my_clf = MyKNeighborsClassifier(n_neighbors = i)\n",
    "    my_clf.fit(X_train, y_train)\n",
    "    scores[i] = my_clf.score(X_test, y_test)\n",
    "        \n",
    "best_count = np.argmax(scores)\n",
    "print(scores)\n",
    "print(\"Best score with {} neighbors\".format(best_count))\n",
    "print(\"Best score: {}\".format(np.max(scores)))\n",
    "plt.plot(range(n_neighbors), scores)\n",
    "plt.xlabel('n_neighbors')\n",
    "plt.ylabel('score') \n",
    "plt.show()"
   ]
  },
  {
   "cell_type": "markdown",
   "metadata": {},
   "source": [
    "**MNIST**"
   ]
  },
  {
   "cell_type": "code",
   "execution_count": 101,
   "metadata": {},
   "outputs": [],
   "source": [
    "mnist = fetch_openml('mnist_784')"
   ]
  },
  {
   "cell_type": "code",
   "execution_count": 409,
   "metadata": {},
   "outputs": [],
   "source": [
    "X_train, X_test, y_train, y_test = train_test_split(mnist.data, mnist.target, test_size=0.01, stratify=mnist.target)"
   ]
  },
  {
   "cell_type": "code",
   "execution_count": 421,
   "metadata": {},
   "outputs": [],
   "source": [
    "clf = KNeighborsClassifier(n_neighbors=2)\n",
    "my_clf = MyKNeighborsClassifier(n_neighbors=2)"
   ]
  },
  {
   "cell_type": "code",
   "execution_count": 418,
   "metadata": {},
   "outputs": [
    {
     "name": "stdout",
     "output_type": "stream",
     "text": [
      "CPU times: user 40.6 s, sys: 98 ms, total: 40.7 s\n",
      "Wall time: 40.5 s\n"
     ]
    },
    {
     "data": {
      "text/plain": [
       "KNeighborsClassifier(algorithm='auto', leaf_size=30, metric='minkowski',\n",
       "           metric_params=None, n_jobs=None, n_neighbors=2, p=2,\n",
       "           weights='uniform')"
      ]
     },
     "execution_count": 418,
     "metadata": {},
     "output_type": "execute_result"
    }
   ],
   "source": [
    "%time clf.fit(X_train, y_train)"
   ]
  },
  {
   "cell_type": "code",
   "execution_count": 422,
   "metadata": {},
   "outputs": [
    {
     "name": "stdout",
     "output_type": "stream",
     "text": [
      "CPU times: user 302 ms, sys: 202 ms, total: 504 ms\n",
      "Wall time: 128 ms\n"
     ]
    }
   ],
   "source": [
    "%time my_clf.fit(X_train, y_train)"
   ]
  },
  {
   "cell_type": "code",
   "execution_count": 368,
   "metadata": {},
   "outputs": [
    {
     "name": "stdout",
     "output_type": "stream",
     "text": [
      "CPU times: user 2.88 s, sys: 292 ms, total: 3.17 s\n",
      "Wall time: 1.17 s\n"
     ]
    },
    {
     "data": {
      "text/plain": [
       "array([1, 0, 7, 1, 4, 7, 9, 2, 7, 4, 2, 2, 8, 5, 6, 3, 2, 7, 8, 0, 0, 0,\n",
       "       1, 6, 4, 0, 8, 0, 7, 7, 6, 6, 8, 4, 4, 8, 9, 6, 0, 0, 5, 4, 5, 5,\n",
       "       4, 5, 8, 0, 2, 8, 2, 9, 2, 9, 4, 1, 8, 6, 6, 6, 1, 3, 4, 9, 2, 4,\n",
       "       3, 4, 3, 0, 8, 9, 1, 9, 6, 2, 9, 7, 9, 1, 6, 9, 1, 3, 6, 4, 4, 0,\n",
       "       6, 0, 5, 6, 8, 6, 7, 3, 4, 8, 8, 8, 4, 9, 3, 1, 2, 6, 5, 9, 0, 7,\n",
       "       3, 7, 8, 4, 0, 0, 4, 5, 0, 3, 4, 5, 0, 0, 1, 8, 7, 9, 6, 4, 1, 9,\n",
       "       9, 4, 9, 9, 8, 7, 3, 1, 0, 0, 4, 7, 6, 9, 1, 1, 4, 3, 3, 9, 1, 7,\n",
       "       3, 9, 5, 0, 7, 4, 5, 5, 9, 2, 6, 6, 5, 2, 8, 7, 8, 9, 6, 8, 9, 5,\n",
       "       7, 2, 0, 4, 7, 2, 9, 9, 3, 1, 8, 9, 2, 5, 5, 9, 8, 6, 6, 8, 7, 3,\n",
       "       5, 9, 4, 3, 5, 3, 7, 2, 8, 4, 9, 9, 4, 0, 7, 3, 9, 2, 7, 9, 5, 5,\n",
       "       3, 5, 1, 3, 4, 2, 3, 8, 8, 7, 1, 3, 4, 0, 4, 2, 0, 7, 0, 3, 1, 2,\n",
       "       0, 3, 5, 1, 6, 5, 0, 2, 9, 5, 6, 9, 9, 1, 7, 0, 6, 7, 3, 4, 6, 6,\n",
       "       1, 5, 7, 2, 8, 1, 3, 1, 7, 9, 7, 9, 7, 3, 6, 9, 3, 5, 9, 2, 1, 1,\n",
       "       5, 2, 5, 5, 7, 8, 0, 2, 4, 1, 3, 4, 8, 1, 0, 3, 2, 0, 0, 0, 7, 8,\n",
       "       3, 1, 8, 5, 9, 6, 2, 8, 7, 9, 5, 7, 5, 8, 0, 4, 5, 7, 3, 0, 0, 5,\n",
       "       7, 3, 3, 5, 7, 9, 5, 0, 3, 4, 6, 9, 4, 2, 9, 6, 1, 3, 7, 5, 0, 8,\n",
       "       1, 9, 8, 0, 4, 1, 7, 2, 5, 1, 9, 3, 2, 8, 6, 1, 3, 9, 0, 3, 3, 2,\n",
       "       6, 9, 7, 9, 1, 0, 1, 2, 1, 0, 2, 5, 2, 7, 1, 0, 5, 7, 9, 5, 6, 4,\n",
       "       5, 8, 9, 1, 0, 2, 3, 0, 6, 9, 2, 8, 4, 2, 1, 1, 4, 2, 0, 0, 6, 9,\n",
       "       7, 6, 1, 1, 4, 7, 6, 0, 3, 1, 6, 3, 7, 7, 8, 4, 2, 2, 3, 7, 5, 3,\n",
       "       5, 4, 1, 6, 1, 9, 5, 4, 1, 9, 2, 7, 7, 6, 4, 3, 1, 1, 6, 3, 7, 3,\n",
       "       8, 2, 2, 6, 3, 0, 8, 6, 2, 2, 7, 1, 6, 9, 3, 0, 3, 4, 3, 6, 0, 1,\n",
       "       7, 6, 0, 8, 4, 2, 6, 7, 3, 8, 1, 1, 8, 5, 1, 5, 8, 3, 2, 1, 5, 4,\n",
       "       0, 2, 3, 0, 2, 0, 0, 0, 1, 1, 4, 2, 5, 8, 1, 9, 2, 7, 2, 1, 5, 9,\n",
       "       3, 2, 1, 9, 2, 6, 8, 6, 2, 7, 7, 1, 6, 2, 2, 0, 8, 5, 9, 5, 6, 1,\n",
       "       0, 4, 8, 3, 9, 8, 3, 0, 2, 4, 5, 1, 1, 3, 2, 0, 5, 1, 3, 3, 2, 1,\n",
       "       7, 5, 5, 5, 6, 4, 6, 3, 9, 9, 0, 1, 7, 6, 1, 9, 8, 3, 8, 7, 1, 8,\n",
       "       2, 7, 5, 0, 1, 6, 4, 2, 6, 6, 5, 4, 1, 1, 1, 2, 9, 1, 8, 7, 3, 7,\n",
       "       5, 8, 4, 8, 2, 7, 6, 0, 9, 7, 7, 9, 2, 6, 5, 4, 5, 6, 9, 0, 0, 6,\n",
       "       0, 0, 4, 3, 2, 6, 6, 7, 3, 4, 3, 8, 6, 2, 3, 7, 8, 7, 1, 4, 1, 8,\n",
       "       4, 6, 0, 3, 4, 4, 6, 7, 2, 6, 4, 8, 0, 2, 8, 2, 8, 7, 3, 5, 0, 3,\n",
       "       1, 3, 4, 9, 5, 1, 7, 8, 1, 8, 3, 1, 6, 4, 4, 7, 7, 4], dtype=int32)"
      ]
     },
     "execution_count": 368,
     "metadata": {},
     "output_type": "execute_result"
    }
   ],
   "source": [
    "%time clf.predict(X_test)"
   ]
  },
  {
   "cell_type": "code",
   "execution_count": 412,
   "metadata": {},
   "outputs": [
    {
     "name": "stdout",
     "output_type": "stream",
     "text": [
      "CPU times: user 29 s, sys: 243 ms, total: 29.2 s\n",
      "Wall time: 28.6 s\n"
     ]
    },
    {
     "data": {
      "text/plain": [
       "array([7, 9, 8, 1, 3, 1, 9, 8, 7, 3, 4, 2, 1, 0, 4, 5, 7, 7, 1, 7, 3, 2,\n",
       "       6, 5, 0, 9, 8, 2, 9, 3, 8, 1, 1, 2, 4, 7, 1, 4, 0, 5, 9, 2, 2, 1,\n",
       "       1, 3, 1, 6, 3, 0, 5, 4, 3, 8, 2, 1, 7, 6, 8, 6, 7, 5, 9, 7, 4, 9,\n",
       "       2, 4, 0, 4, 5, 2, 8, 0, 6, 8, 6, 3, 8, 4, 7, 9, 8, 9, 3, 0, 4, 4,\n",
       "       7, 1, 7, 7, 0, 1, 0, 5, 1, 2, 8, 5, 9, 1, 7, 4, 5, 0, 0, 6, 2, 7,\n",
       "       3, 8, 7, 1, 5, 1, 0, 1, 1, 3, 8, 5, 4, 5, 2, 7, 7, 8, 4, 0, 1, 0,\n",
       "       9, 2, 4, 5, 1, 4, 1, 0, 7, 7, 5, 8, 4, 8, 2, 7, 4, 7, 5, 5, 9, 8,\n",
       "       4, 2, 4, 9, 4, 2, 2, 3, 4, 6, 3, 5, 8, 7, 2, 2, 4, 4, 8, 3, 1, 3,\n",
       "       6, 3, 6, 5, 7, 3, 7, 7, 8, 1, 6, 3, 6, 6, 2, 2, 2, 0, 3, 4, 3, 0,\n",
       "       9, 3, 4, 8, 4, 5, 3, 9, 9, 9, 0, 0, 4, 6, 2, 9, 4, 7, 8, 2, 8, 2,\n",
       "       4, 2, 6, 9, 8, 1, 1, 6, 7, 5, 8, 3, 3, 7, 6, 2, 0, 2, 9, 6, 8, 8,\n",
       "       7, 6, 8, 2, 1, 4, 5, 1, 2, 8, 6, 9, 8, 8, 4, 2, 5, 2, 3, 9, 6, 5,\n",
       "       3, 7, 9, 3, 3, 0, 4, 7, 1, 7, 7, 2, 1, 2, 8, 8, 4, 9, 6, 4, 4, 1,\n",
       "       6, 3, 2, 6, 6, 0, 3, 9, 1, 9, 8, 4, 9, 2, 5, 7, 4, 5, 0, 1, 3, 2,\n",
       "       1, 2, 3, 2, 3, 7, 3, 5, 6, 9, 3, 7, 7, 6, 7, 2, 3, 5, 7, 6, 4, 1,\n",
       "       4, 3, 6, 2, 7, 0, 7, 5, 8, 8, 7, 9, 8, 6, 5, 6, 9, 4, 3, 6, 8, 2,\n",
       "       4, 1, 9, 5, 0, 4, 5, 1, 3, 9, 3, 1, 7, 7, 3, 3, 6, 4, 2, 8, 3, 6,\n",
       "       3, 0, 6, 2, 3, 0, 8, 1, 7, 2, 0, 0, 2, 1, 6, 4, 1, 5, 6, 1, 7, 1,\n",
       "       8, 5, 6, 4, 8, 7, 9, 7, 8, 8, 1, 2, 4, 5, 1, 5, 1, 0, 0, 7, 5, 5,\n",
       "       1, 6, 2, 9, 4, 4, 0, 1, 7, 5, 2, 5, 1, 8, 6, 4, 2, 1, 2, 9, 1, 9,\n",
       "       7, 6, 0, 0, 3, 6, 9, 2, 7, 8, 2, 0, 6, 4, 5, 2, 8, 3, 7, 6, 9, 1,\n",
       "       4, 2, 0, 6, 8, 7, 5, 1, 1, 1, 1, 0, 2, 0, 6, 9, 2, 1, 2, 0, 3, 3,\n",
       "       2, 2, 0, 2, 9, 8, 0, 0, 2, 3, 5, 0, 0, 4, 0, 6, 9, 7, 0, 6, 4, 4,\n",
       "       1, 0, 6, 9, 2, 0, 6, 7, 9, 8, 6, 6, 6, 9, 3, 7, 6, 3, 0, 0, 7, 0,\n",
       "       3, 9, 5, 1, 4, 3, 1, 1, 3, 0, 7, 4, 4, 1, 1, 8, 9, 8, 1, 1, 3, 3,\n",
       "       0, 4, 2, 4, 8, 2, 9, 5, 1, 1, 0, 7, 1, 7, 7, 9, 6, 0, 3, 8, 0, 4,\n",
       "       6, 1, 3, 4, 3, 7, 6, 3, 5, 6, 6, 8, 4, 6, 9, 8, 0, 6, 2, 2, 5, 3,\n",
       "       8, 4, 9, 9, 1, 5, 0, 2, 3, 3, 0, 3, 6, 3, 8, 0, 1, 6, 3, 0, 0, 5,\n",
       "       1, 6, 3, 3, 1, 8, 9, 0, 6, 3, 0, 5, 9, 7, 7, 5, 4, 2, 0, 0, 6, 8,\n",
       "       5, 0, 3, 4, 1, 4, 9, 1, 5, 5, 1, 7, 8, 5, 7, 9, 7, 6, 7, 8, 8, 5,\n",
       "       0, 5, 0, 9, 1, 9, 2, 8, 8, 1, 7, 4, 5, 1, 5, 1, 4, 5, 7, 6, 9, 9,\n",
       "       6, 9, 9, 2, 1, 3, 0, 9, 9, 1, 5, 0, 8, 8, 5, 2, 9, 5])"
      ]
     },
     "execution_count": 412,
     "metadata": {},
     "output_type": "execute_result"
    }
   ],
   "source": [
    "%time my_clf.predict(X_test)"
   ]
  },
  {
   "cell_type": "code",
   "execution_count": null,
   "metadata": {},
   "outputs": [],
   "source": [
    "%time clf.predict_proba(X_test)"
   ]
  },
  {
   "cell_type": "code",
   "execution_count": 413,
   "metadata": {},
   "outputs": [
    {
     "name": "stdout",
     "output_type": "stream",
     "text": [
      "CPU times: user 32.1 s, sys: 342 ms, total: 32.5 s\n",
      "Wall time: 31.9 s\n"
     ]
    },
    {
     "data": {
      "text/plain": [
       "array([[0., 0., 0., ..., 1., 0., 0.],\n",
       "       [0., 0., 0., ..., 0., 0., 1.],\n",
       "       [0., 0., 0., ..., 0., 1., 0.],\n",
       "       ...,\n",
       "       [0., 0., 1., ..., 0., 0., 0.],\n",
       "       [0., 0., 0., ..., 0., 0., 1.],\n",
       "       [0., 0., 0., ..., 0., 0., 0.]])"
      ]
     },
     "execution_count": 413,
     "metadata": {},
     "output_type": "execute_result"
    }
   ],
   "source": [
    "%time my_clf.predict_proba(X_test)"
   ]
  },
  {
   "cell_type": "code",
   "execution_count": 419,
   "metadata": {},
   "outputs": [
    {
     "data": {
      "text/plain": [
       "0.98"
      ]
     },
     "execution_count": 419,
     "metadata": {},
     "output_type": "execute_result"
    }
   ],
   "source": [
    "clf.score(X_test, y_test)"
   ]
  },
  {
   "cell_type": "code",
   "execution_count": 423,
   "metadata": {},
   "outputs": [
    {
     "data": {
      "text/plain": [
       "0.98"
      ]
     },
     "execution_count": 423,
     "metadata": {},
     "output_type": "execute_result"
    }
   ],
   "source": [
    "my_clf.score(X_test, y_test)"
   ]
  },
  {
   "cell_type": "markdown",
   "metadata": {},
   "source": [
    "Задание 4"
   ]
  },
  {
   "cell_type": "code",
   "execution_count": null,
   "metadata": {},
   "outputs": [],
   "source": [
    "clf = KNeighborsClassifier(n_neighbors=2, algorithm='kd_tree')\n",
    "my_clf = MyKNeighborsClassifier(n_neighbors=2, algorithm='kd_tree')"
   ]
  },
  {
   "cell_type": "code",
   "execution_count": null,
   "metadata": {},
   "outputs": [],
   "source": [
    "X_train, X_test, y_train, y_test = train_test_split(mnist.data, mnist.target, test_size=0.01, stratify=mnist.target)"
   ]
  },
  {
   "cell_type": "code",
   "execution_count": null,
   "metadata": {},
   "outputs": [],
   "source": [
    "%time clf.fit(X_train, y_train)"
   ]
  },
  {
   "cell_type": "code",
   "execution_count": null,
   "metadata": {},
   "outputs": [],
   "source": [
    "%time my_clf.fit(X_train, y_train)"
   ]
  },
  {
   "cell_type": "code",
   "execution_count": null,
   "metadata": {},
   "outputs": [],
   "source": [
    "%time clf.predict(X_test)"
   ]
  },
  {
   "cell_type": "code",
   "execution_count": null,
   "metadata": {},
   "outputs": [],
   "source": [
    "%time my_clf.predict(X_test)"
   ]
  },
  {
   "cell_type": "code",
   "execution_count": null,
   "metadata": {},
   "outputs": [],
   "source": [
    "%time clf.predict_proba(X_test)"
   ]
  },
  {
   "cell_type": "code",
   "execution_count": null,
   "metadata": {},
   "outputs": [],
   "source": [
    "%time my_clf.predict_proba(X_test)"
   ]
  },
  {
   "cell_type": "code",
   "execution_count": null,
   "metadata": {},
   "outputs": [],
   "source": [
    "clf.score(X_test, y_test)"
   ]
  },
  {
   "cell_type": "code",
   "execution_count": null,
   "metadata": {},
   "outputs": [],
   "source": [
    "my_clf.score(X_test, y_test)"
   ]
  },
  {
   "cell_type": "markdown",
   "metadata": {},
   "source": [
    "Задание 5"
   ]
  },
  {
   "cell_type": "code",
   "execution_count": null,
   "metadata": {},
   "outputs": [],
   "source": [
    "# seaborn\n",
    "# matplotlib\n",
    "# train_test_split\n",
    "# Pipelin%load_ext e (from sklearn.pipeline import Pipeline)\n",
    "# StandardScaler (from sklearn.preprocessing import StandardScaler)\n",
    "# ClassifierMixin\n",
    "# NeighborsBase\n",
    "# KNeighborsMixin\n",
    "# SupervisedIntegerMixin"
   ]
  }
 ],
 "metadata": {
  "kernelspec": {
   "display_name": "Python 3",
   "language": "python",
   "name": "python3"
  },
  "language_info": {
   "codemirror_mode": {
    "name": "ipython",
    "version": 3
   },
   "file_extension": ".py",
   "mimetype": "text/x-python",
   "name": "python",
   "nbconvert_exporter": "python",
   "pygments_lexer": "ipython3",
   "version": "3.7.1"
  }
 },
 "nbformat": 4,
 "nbformat_minor": 2
}
